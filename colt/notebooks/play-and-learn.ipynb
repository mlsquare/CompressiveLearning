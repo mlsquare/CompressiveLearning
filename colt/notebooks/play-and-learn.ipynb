{
 "cells": [
  {
   "cell_type": "markdown",
   "metadata": {},
   "source": [
    "# Sparse Linear Regression\n",
    "y = Xb. Given, y, recover sparse b.\n",
    "Implement FISTA.\n",
    "\n",
    "In this notebook, we will test basic building blocks, and see if they work"
   ]
  },
  {
   "cell_type": "code",
   "execution_count": 1,
   "metadata": {},
   "outputs": [],
   "source": [
    "%load_ext autoreload\n",
    "%autoreload 2\n",
    "import os\n",
    "import sys\n",
    "import torch"
   ]
  },
  {
   "cell_type": "code",
   "execution_count": 46,
   "metadata": {},
   "outputs": [
    {
     "name": "stdout",
     "output_type": "stream",
     "text": [
      "Model parameters: [Parameter containing:\n",
      "tensor([[0.1060]], requires_grad=True)]\n"
     ]
    }
   ],
   "source": [
    "import numpy as np\n",
    "import torch\n",
    "import torch.nn as nn\n",
    "import torch.optim as optim\n",
    "\n",
    "# median is the minimizer of absolute loss.\n",
    "# test if this works with adam, and mae loss.\n",
    "\n",
    "# Step 1: Create a list of n values between -1 and 1\n",
    "n = 10\n",
    "x_values = np.linspace(-1, 1, n)\n",
    "\n",
    "x_tensor = torch.tensor(x_values, dtype=torch.float32).view(-1, 1)\n",
    "x_values = np.append(x_values, 100)  # Add 100 as the last element\n",
    "input_tensor = torch.ones_like(x_tensor)\n",
    "\n",
    "# Step 2: Define a simple model\n",
    "model = nn.Linear(1, 1, bias=False)\n",
    "\n",
    "# Step 3: Define a loss function using mean absolute error (MAE)\n",
    "loss_fn = nn.L1Loss()\n",
    "\n",
    "# Step 4: Set up the Adam optimizer\n",
    "optimizer = optim.Adam(model.parameters(), lr=0.01)\n",
    "\n",
    "# Step 5: Run the optimizer for 100 steps\n",
    "for step in range(100):\n",
    "    optimizer.zero_grad()\n",
    "    outputs = model(input_tensor)\n",
    "    loss = loss_fn(outputs, x_tensor)\n",
    "    loss.backward()\n",
    "    optimizer.step()\n",
    "\n",
    "# Step 6: Print the result\n",
    "print(\"Model parameters:\", list(model.parameters()))"
   ]
  },
  {
   "cell_type": "code",
   "execution_count": 51,
   "metadata": {},
   "outputs": [
    {
     "name": "stdout",
     "output_type": "stream",
     "text": [
      "Model parameters: [Parameter containing:\n",
      "tensor([[-0.7978]], requires_grad=True)]\n"
     ]
    }
   ],
   "source": [
    "import numpy as np\n",
    "import torch\n",
    "import torch.nn as nn\n",
    "import torch.optim as optim\n",
    "\n",
    "# median is the minimizer of absolute loss.\n",
    "# test if this works with adam, and mae loss.\n",
    "\n",
    "# Step 1: Create a list of n values between -1 and 1\n",
    "n = 10\n",
    "x_values = np.linspace(-1, 1, n)\n",
    "x_values = np.append(x_values, -10)  # Add 100 as the last element\n",
    "x_tensor = torch.tensor(x_values, dtype=torch.float32).view(-1, 1)\n",
    "input_tensor = torch.ones_like(x_tensor)\n",
    "\n",
    "# Step 2: Define a simple model\n",
    "model = nn.Linear(1, 1, bias=False)\n",
    "\n",
    "# Step 3: Define a loss function using mean squared error (MSE)\n",
    "loss_fn = nn.MSELoss()\n",
    "\n",
    "# Step 4: Set up the Adam optimizer\n",
    "optimizer = optim.Adam(model.parameters(), lr=0.01)\n",
    "\n",
    "# Step 5: Run the optimizer for 100 steps\n",
    "for step in range(100):\n",
    "    optimizer.zero_grad()\n",
    "    outputs = model(input_tensor)\n",
    "    loss = loss_fn(outputs, x_tensor)\n",
    "    loss.backward()\n",
    "    optimizer.step()\n",
    "\n",
    "# Step 6: Print the result\n",
    "print(\"Model parameters:\", list(model.parameters()))\n"
   ]
  }
 ],
 "metadata": {
  "kernelspec": {
   "display_name": "ai839",
   "language": "python",
   "name": "python3"
  },
  "language_info": {
   "codemirror_mode": {
    "name": "ipython",
    "version": 3
   },
   "file_extension": ".py",
   "mimetype": "text/x-python",
   "name": "python",
   "nbconvert_exporter": "python",
   "pygments_lexer": "ipython3",
   "version": "3.10.0"
  }
 },
 "nbformat": 4,
 "nbformat_minor": 2
}
