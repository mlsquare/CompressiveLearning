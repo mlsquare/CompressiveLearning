{
 "cells": [
  {
   "cell_type": "markdown",
   "metadata": {},
   "source": [
    "# Boolean Networks \n",
    "\n",
    "Construct building blocks to specify Boolean Networks"
   ]
  },
  {
   "cell_type": "code",
   "execution_count": null,
   "metadata": {},
   "outputs": [],
   "source": [
    "%load_ext autoreload\n",
    "%autoreload 2\n",
    "import os\n",
    "import sys\n",
    "\n",
    "module_path = os.path.abspath(os.path.join('../')) # or the path\n",
    "sys.path.append(module_path)\n",
    "\n",
    "from engine import Bool\n",
    "import itertools\n",
    "import pandas as pd\n",
    "import numpy as np"
   ]
  },
  {
   "cell_type": "code",
   "execution_count": 2,
   "metadata": {},
   "outputs": [
    {
     "name": "stdout",
     "output_type": "stream",
     "text": [
      "ProdTron(2)\n",
      "SumTron(2)\n",
      "[data:1, grad:0, data:-1, grad:0]\n",
      "data:-1, grad:0\n",
      "Prod Layer of [ProdTron(2), ProdTron(2), ProdTron(2)]\n",
      "[data:1, grad:0, data:1, grad:0, data:-1, grad:0, data:1, grad:0, data:-1, grad:0, data:-1, grad:0]\n",
      "Prod Layer of [SumTron(2), SumTron(2), SumTron(2)]\n",
      "[data:1, grad:0, data:1, grad:0, data:-1, grad:0, data:1, grad:0, data:1, grad:0, data:-1, grad:0]\n"
     ]
    }
   ],
   "source": [
    "from engine import Bool\n",
    "from bnn import ProdTron, SumTron, ProdLayer, SumLayer\n",
    "\n",
    "# building blocks of a layer.\n",
    "n1 = ProdTron(2)\n",
    "n2 = SumTron(2)\n",
    "print(n1)\n",
    "print(n2)\n",
    "\n",
    "# check forward propagation\n",
    "x = [Bool(1),Bool(1)]\n",
    "y = n1(x)\n",
    "print(n1.parameters())\n",
    "print(y)\n",
    "\n",
    "# a layer that maps boolean variables to another set of boolean variables\n",
    "# which consist of AND terms only\n",
    "# for x1,x2, we get x1*x2, x1*not(x2), etc\n",
    "m = ProdLayer(2,3)\n",
    "print(m)\n",
    "print(m.parameters())\n",
    "\n",
    "# a layer that maps boolean variables to another set of boolean variables\n",
    "# which consist of OR terms oly\n",
    "# for x1,x2, we get x1+x2, x1+not(x2), etc\n",
    "m = SumLayer(2,3)\n",
    "print(m)\n",
    "print(m.parameters())\n"
   ]
  },
  {
   "cell_type": "code",
   "execution_count": 5,
   "metadata": {},
   "outputs": [
    {
     "name": "stdout",
     "output_type": "stream",
     "text": [
      "yh data:1, grad:0\n",
      "y data:-1, grad:0\n",
      "data:-1, grad:0\n",
      "data:1, grad:1\n",
      "data:1, grad:1\n"
     ]
    }
   ],
   "source": [
    "# define an MLP, with two inputs, 1 Prod Layer+ Sum layer, with one o/p\n",
    "from engine import Bool\n",
    "from bnn import MLP\n",
    "model = MLP(2,[1],[1])\n",
    "x = [Bool(1),Bool(1)]\n",
    "yh = model(x)\n",
    "y = Bool(-1)\n",
    "\n",
    "print('yh',yh)\n",
    "print('y',y)\n",
    "model.zero_grad()\n",
    "loss = y^yh\n",
    "loss.backward()\n",
    "for p in model.parameters():\n",
    "    print(p)"
   ]
  },
  {
   "cell_type": "code",
   "execution_count": 4,
   "metadata": {},
   "outputs": [
    {
     "name": "stdout",
     "output_type": "stream",
     "text": [
      "before:  -1\n",
      "after:  1\n",
      "data:1, grad:0\n",
      "data:1, grad:0\n",
      "data:-1, grad:0\n",
      "data:1, grad:0\n",
      "data:1, grad:0\n",
      "data:1, grad:0\n",
      "True\n"
     ]
    }
   ],
   "source": [
    "# check if changing params (during optimization) preserved the state changes in the model params\n",
    "for p in m.parameters():\n",
    "    pass\n",
    "\n",
    "x1 = p.data\n",
    "print('before: ',x1)\n",
    "x2 = np.sign(-p.data)\n",
    "p.data = x2\n",
    "print('after: ',x2)\n",
    "\n",
    "for p in m.parameters():\n",
    "    print(p)\n",
    "\n",
    "print(x2 == p.data)"
   ]
  }
 ],
 "metadata": {
  "kernelspec": {
   "display_name": "ai839",
   "language": "python",
   "name": "python3"
  },
  "language_info": {
   "codemirror_mode": {
    "name": "ipython",
    "version": 3
   },
   "file_extension": ".py",
   "mimetype": "text/x-python",
   "name": "python",
   "nbconvert_exporter": "python",
   "pygments_lexer": "ipython3",
   "version": "3.10.0"
  }
 },
 "nbformat": 4,
 "nbformat_minor": 2
}
